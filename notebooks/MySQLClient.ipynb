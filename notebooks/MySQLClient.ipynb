{
 "cells": [
  {
   "cell_type": "markdown",
   "metadata": {},
   "source": [
    "# Task 1 - Connecting to MySQL database"
   ]
  },
  {
   "cell_type": "code",
   "execution_count": 1,
   "metadata": {},
   "outputs": [],
   "source": [
    "import mysql.connector as connector\n",
    "import os"
   ]
  },
  {
   "cell_type": "code",
   "execution_count": 2,
   "metadata": {},
   "outputs": [],
   "source": [
    "%load_ext dotenv\n",
    "%dotenv ./.env"
   ]
  },
  {
   "cell_type": "code",
   "execution_count": 3,
   "metadata": {},
   "outputs": [],
   "source": [
    "dbconfig = {\n",
    "    'user': os.getenv('USER'),\n",
    "    'password': os.getenv('PASSWORD'),\n",
    "    'db': 'LittleLemonDB',\n",
    "}"
   ]
  },
  {
   "cell_type": "code",
   "execution_count": 4,
   "metadata": {},
   "outputs": [],
   "source": [
    "connection = connector.connect(**dbconfig)"
   ]
  },
  {
   "cell_type": "code",
   "execution_count": 5,
   "metadata": {},
   "outputs": [],
   "source": [
    "cursor = connection.cursor()"
   ]
  },
  {
   "cell_type": "markdown",
   "metadata": {},
   "source": [
    "# Task 2 - Showing the database tables"
   ]
  },
  {
   "cell_type": "code",
   "execution_count": 6,
   "metadata": {},
   "outputs": [],
   "source": [
    "show_tables_query = '''SHOW tables''' \n",
    "cursor.execute(show_tables_query)"
   ]
  },
  {
   "cell_type": "code",
   "execution_count": 7,
   "metadata": {},
   "outputs": [
    {
     "name": "stdout",
     "output_type": "stream",
     "text": [
      "bookings\n",
      "contactdetails\n",
      "customers\n",
      "menucontent\n",
      "menuitems\n",
      "menus\n",
      "orderdeliverystatus\n",
      "orders\n",
      "ordersview\n",
      "roles\n",
      "staff\n"
     ]
    }
   ],
   "source": [
    "tables = cursor.fetchall()\n",
    "for table in tables:\n",
    "    print(table[0])"
   ]
  },
  {
   "cell_type": "markdown",
   "metadata": {},
   "source": [
    "# Task 3 - Getting the customers' details who have spent more than $60"
   ]
  },
  {
   "cell_type": "code",
   "execution_count": 8,
   "metadata": {},
   "outputs": [],
   "source": [
    "customer_join_query = '''\n",
    "        SELECT\n",
    "            c.name AS FullName,\n",
    "            cd.email AS Email,\n",
    "            cd.phone_number AS PhoneNumber,\n",
    "            cd.address AS Address,\n",
    "            cd.country AS Country,\n",
    "            cd.city AS City,\n",
    "            o.total_cost AS Cost\n",
    "        FROM customers c\n",
    "        JOIN contactdetails cd\n",
    "            USING (customer_id)\n",
    "        JOIN orders o\n",
    "            USING (customer_id)\n",
    "        WHERE o.total_cost > 60\n",
    "        ORDER BY o.total_cost DESC;\n",
    "'''"
   ]
  },
  {
   "cell_type": "code",
   "execution_count": 9,
   "metadata": {},
   "outputs": [],
   "source": [
    "cursor.execute(customer_join_query)"
   ]
  },
  {
   "cell_type": "code",
   "execution_count": 10,
   "metadata": {},
   "outputs": [],
   "source": [
    "customers = cursor.fetchall()"
   ]
  },
  {
   "cell_type": "code",
   "execution_count": 11,
   "metadata": {},
   "outputs": [
    {
     "name": "stdout",
     "output_type": "stream",
     "text": [
      "There are 935 customers with more than $60 of spending...\n",
      "Printing the top 10 spenders...\n",
      "==================================================\n",
      "Full Name: \t Jacquelyn Yewen\n",
      "Email: \t\t bsirmana4@comsenz.com\n",
      "Phone Number: \t +1 (513) 215-9561\n",
      "Address: \t 5626 Swallow Alley\n",
      "Country: \t United States\n",
      "City: \t\t Cincinnati\n",
      "Has spent: \t 498.91\n",
      "==================================================\n",
      "Full Name: \t Ardys Dwire\n",
      "Email: \t\t jmcbeitha6@sina.com.cn\n",
      "Phone Number: \t +1 (972) 934-0387\n",
      "Address: \t 99 Charing Cross Crossing\n",
      "Country: \t United States\n",
      "City: \t\t Garland\n",
      "Has spent: \t 498.9\n",
      "==================================================\n",
      "Full Name: \t Phyllys Apple\n",
      "Email: \t\t kdarth2s@yellowbook.com\n",
      "Phone Number: \t +1 (317) 765-7102\n",
      "Address: \t 72389 Homewood Center\n",
      "Country: \t United States\n",
      "City: \t\t Seminole\n",
      "Has spent: \t 498.42\n",
      "==================================================\n",
      "Full Name: \t Felicio Ansty\n",
      "Email: \t\t hmckernon3h@bandcamp.com\n",
      "Phone Number: \t +1 (815) 786-0307\n",
      "Address: \t 281 Morning Crossing\n",
      "Country: \t United States\n",
      "City: \t\t Rockford\n",
      "Has spent: \t 498.09\n",
      "==================================================\n",
      "Full Name: \t Joleen Dunkinson\n",
      "Email: \t\t cterlindenbi@desdev.cn\n",
      "Phone Number: \t +1 (318) 400-0742\n",
      "Address: \t 7 Maple Center\n",
      "Country: \t United States\n",
      "City: \t\t Shreveport\n",
      "Has spent: \t 497.49\n",
      "==================================================\n",
      "Full Name: \t Leila Coole\n",
      "Email: \t\t mantalffybd@adobe.com\n",
      "Phone Number: \t +1 (513) 564-6235\n",
      "Address: \t 5606 Sage Lane\n",
      "Country: \t United States\n",
      "City: \t\t Cincinnati\n",
      "Has spent: \t 496.8\n",
      "==================================================\n",
      "Full Name: \t Art Trelease\n",
      "Email: \t\t hmerrydewdr@t.co\n",
      "Phone Number: \t +1 (404) 879-2955\n",
      "Address: \t 8 Caliangt Road\n",
      "Country: \t United States\n",
      "City: \t\t Atlanta\n",
      "Has spent: \t 496.71\n",
      "==================================================\n",
      "Full Name: \t Tracy Ferbrache\n",
      "Email: \t\t mfinnick8o@pcworld.com\n",
      "Phone Number: \t +1 (704) 872-6092\n",
      "Address: \t 71032 Barnett Drive\n",
      "Country: \t United States\n",
      "City: \t\t Charlotte\n",
      "Has spent: \t 496.23\n",
      "==================================================\n",
      "Full Name: \t Emmy Garmanson\n",
      "Email: \t\t atwiddlea9@un.org\n",
      "Phone Number: \t +1 (510) 263-1560\n",
      "Address: \t 2 Karstens Street\n",
      "Country: \t United States\n",
      "City: \t\t Oakland\n",
      "Has spent: \t 495.47\n",
      "==================================================\n",
      "Full Name: \t Adan Roust\n",
      "Email: \t\t dphebee2r@java.com\n",
      "Phone Number: \t +1 (212) 693-2993\n",
      "Address: \t 748 Dahle Parkway\n",
      "Country: \t United States\n",
      "City: \t\t New York City\n",
      "Has spent: \t 495.29\n"
     ]
    }
   ],
   "source": [
    "print(f'There are {len(customers)} customers with more than $60 of spending...')\n",
    "print('Printing the top 10 spenders...')\n",
    "\n",
    "for customer in customers[:10]:\n",
    "    print('=' * 50)\n",
    "    print(f'Full Name: \\t {customer[0]}')\n",
    "    print(f'Email: \\t\\t {customer[1]}')\n",
    "    print(f'Phone Number: \\t {customer[2]}')\n",
    "    print(f'Address: \\t {customer[3]}')\n",
    "    print(f'Country: \\t {customer[4]}')\n",
    "    print(f'City: \\t\\t {customer[5]}')\n",
    "    print(f'Has spent: \\t {float(customer[6])}')"
   ]
  }
 ],
 "metadata": {
  "kernelspec": {
   "display_name": ".venv",
   "language": "python",
   "name": ".venv"
  },
  "language_info": {
   "codemirror_mode": {
    "name": "ipython",
    "version": 3
   },
   "file_extension": ".py",
   "mimetype": "text/x-python",
   "name": "python",
   "nbconvert_exporter": "python",
   "pygments_lexer": "ipython3",
   "version": "3.9.1"
  },
  "vscode": {
   "interpreter": {
    "hash": "b73e474673bfe12effab4f657ad84242673c76970007dace9f33795c7117e521"
   }
  }
 },
 "nbformat": 4,
 "nbformat_minor": 2
}
